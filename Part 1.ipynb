{
 "cells": [
  {
   "cell_type": "code",
   "execution_count": 17,
   "id": "cdf9ce57",
   "metadata": {},
   "outputs": [],
   "source": [
    "import pandas as pd\n",
    "import re\n",
    "from nltk.corpus import stopwords\n",
    "from nltk.stem import WordNetLemmatizer\n",
    "from sklearn.feature_extraction.text import TfidfVectorizer\n",
    "from sklearn.metrics.pairwise import cosine_similarity\n",
    "import nltk"
   ]
  },
  {
   "cell_type": "code",
   "execution_count": 18,
   "id": "0e5d7a77",
   "metadata": {},
   "outputs": [],
   "source": [
    "# Replace 'path_to_file' with the actual path to your file\n",
    "file_path = r'C:\\Users\\Administrator\\Desktop\\Final Dataset 2.csv'"
   ]
  },
  {
   "cell_type": "code",
   "execution_count": 19,
   "id": "d8db7325",
   "metadata": {
    "scrolled": true
   },
   "outputs": [
    {
     "name": "stderr",
     "output_type": "stream",
     "text": [
      "C:\\Users\\Administrator\\AppData\\Local\\Temp\\ipykernel_8328\\3858813794.py:70: FutureWarning: DataFrame.applymap has been deprecated. Use DataFrame.map instead.\n",
      "  df = df.applymap(normalize_text)\n",
      "[nltk_data] Downloading package stopwords to\n",
      "[nltk_data]     C:\\Users\\Administrator\\AppData\\Roaming\\nltk_data...\n",
      "[nltk_data]   Package stopwords is already up-to-date!\n",
      "[nltk_data] Downloading package wordnet to\n",
      "[nltk_data]     C:\\Users\\Administrator\\AppData\\Roaming\\nltk_data...\n",
      "[nltk_data]   Package wordnet is already up-to-date!\n"
     ]
    }
   ],
   "source": [
    "\n",
    "# Define a function to normalize text\n",
    "def normalize_text(text):\n",
    "    if isinstance(text, str):\n",
    "        # Lowercase the text\n",
    "        text = text.lower()\n",
    "        # Remove special characters\n",
    "        text = re.sub(r'[^a-zA-Z0-9\\s]', '', text)\n",
    "    return text\n",
    "\n",
    "# Define a function to tokenize text\n",
    "def tokenize_text(text):\n",
    "    if isinstance(text, str):\n",
    "        # Split the text into words/tokens\n",
    "        tokens = text.split()\n",
    "        return tokens\n",
    "    return text\n",
    "\n",
    "# Define a function to remove stop words\n",
    "def remove_stop_words(tokens):\n",
    "    if isinstance(tokens, list):\n",
    "        filtered_tokens = [word for word in tokens if word not in stop_words]\n",
    "        return filtered_tokens\n",
    "    return tokens\n",
    "\n",
    "# Define a function to lemmatize tokens\n",
    "def lemmatize_tokens(tokens):\n",
    "    if isinstance(tokens, list):\n",
    "        lemmatized_tokens = [lemmatizer.lemmatize(word) for word in tokens]\n",
    "        return lemmatized_tokens\n",
    "    return tokens\n",
    "\n",
    "# Combine the specified columns into a single text column\n",
    "def combine_columns(row):\n",
    "    combined_text = ' '.join([str(row[col]) for col in columns_to_normalize if isinstance(row[col], str)])\n",
    "    return combined_text\n",
    "\n",
    "# Function to recommend similar TV shows based on input title\n",
    "def recommend_tv_shows(title, cosine_sim_matrix, df, top_n=5):\n",
    "    # Find the index of the TV show title\n",
    "    idx = df[df['Title'].str.lower() == title.lower()].index\n",
    "    if len(idx) == 0:\n",
    "        return \"TV show not found in the dataset. Please try another title.\"\n",
    "\n",
    "    # Get the cosine similarity scores for the given TV show\n",
    "    sim_scores = list(enumerate(cosine_sim_matrix[idx][0]))\n",
    "\n",
    "    # Sort the TV shows based on similarity scores\n",
    "    sim_scores = sorted(sim_scores, key=lambda x: x[1], reverse=True)\n",
    "\n",
    "    # Get the scores of the top similar TV shows\n",
    "    sim_scores = sim_scores[1:top_n+1]  # Exclude the first (itself) and take top_n\n",
    "\n",
    "    # Get the indices of the similar TV shows\n",
    "    show_indices = [i[0] for i in sim_scores]\n",
    "\n",
    "    # Return the top similar TV shows\n",
    "    return df['Title'].iloc[show_indices]\n",
    "\n",
    "\n",
    "\n",
    "# Read the CSV file into a DataFrame with a specified encoding\n",
    "df = pd.read_csv(file_path, encoding='latin1')\n",
    "\n",
    "# Normalize text in relevant columns\n",
    "columns_to_normalize = ['Title', 'Type', 'Premiere', 'Genre', 'Language', 'Origin', 'Director', 'Cast', 'Description']\n",
    "for column in columns_to_normalize:\n",
    "    df[column] = df[column].apply(normalize_text)\n",
    "\n",
    "# Apply text normalization to all columns\n",
    "df = df.applymap(normalize_text)\n",
    "\n",
    "# Apply tokenization to the 'Description' column\n",
    "df['Description'] = df['Description'].apply(tokenize_text)\n",
    "\n",
    "# Download the stop words list\n",
    "nltk.download('stopwords')\n",
    "stop_words = set(stopwords.words('english'))\n",
    "\n",
    "# Apply stop word removal to the 'Description' column\n",
    "df['Description'] = df['Description'].apply(remove_stop_words)\n",
    "\n",
    "# Define a lemmatizer\n",
    "nltk.download('wordnet')\n",
    "lemmatizer = WordNetLemmatizer()\n",
    "\n",
    "# Apply lemmatization to the 'Description' column\n",
    "df['Description'] = df['Description'].apply(lemmatize_tokens)\n",
    "\n",
    "# Combine columns into a single text column\n",
    "df['Combined_Text'] = df.apply(combine_columns, axis=1)\n",
    "\n",
    "# Perform TF-IDF on the combined text column\n",
    "vectorizer = TfidfVectorizer(stop_words='english')\n",
    "tfidf_matrix = vectorizer.fit_transform(df['Combined_Text'])\n",
    "\n",
    "# Convert the TF-IDF matrix to a DataFrame for better readability\n",
    "tfidf_df = pd.DataFrame(tfidf_matrix.toarray(), columns=vectorizer.get_feature_names_out())\n",
    "\n",
    "# Calculate cosine similarity\n",
    "cosine_sim = cosine_similarity(tfidf_matrix, tfidf_matrix)\n",
    "\n",
    "# Convert the cosine similarity matrix to a DataFrame for better readability\n",
    "cosine_sim_df = pd.DataFrame(cosine_sim, index=df['Title'], columns=df['Title'])\n"
   ]
  },
  {
   "cell_type": "code",
   "execution_count": 20,
   "id": "c5d4c1e0",
   "metadata": {},
   "outputs": [
    {
     "name": "stdout",
     "output_type": "stream",
     "text": [
      "Your Input TV Show Title HereBreaking BAd\n",
      "\n",
      "Top Recommendations for 'Breaking BAd':\n",
      "26          new amsterdam\n",
      "5                     you\n",
      "10           kaleidoscope\n",
      "31    the good bad mother\n",
      "39          the snow girl\n",
      "Name: Title, dtype: object\n"
     ]
    }
   ],
   "source": [
    "\n",
    "\n",
    "# Example usage:\n",
    "input_title = input(\"Your Input TV Show Title Here\")\n",
    "recommendations = recommend_tv_shows(input_title, cosine_sim, df)\n",
    "print(f\"\\nTop Recommendations for '{input_title}':\")\n",
    "print(recommendations)\n",
    "\n"
   ]
  },
  {
   "cell_type": "code",
   "execution_count": 17,
   "id": "9ee949d4",
   "metadata": {},
   "outputs": [
    {
     "name": "stdout",
     "output_type": "stream",
     "text": [
      "C:\\Users\\Administrator\\Desktop\n"
     ]
    }
   ],
   "source": [
    "\n",
    "import pickle\n",
    "\n",
    "new_df = pd.read_csv(file_path, encoding='latin1')\n",
    "\n",
    "# Serialize and save the DataFrame using pickle\n",
    "pickle.dump(new_df.to_dict, open('movies_new.pkl', 'wb'))\n",
    "\n",
    "# Save the cosine similarity matrix using pickle\n",
    "pickle.dump(cosine_sim_df, open('similarity_new.pk1', 'wb'))\n",
    "\n",
    "import os\n",
    "print(os.getcwd())"
   ]
  },
  {
   "cell_type": "code",
   "execution_count": null,
   "id": "16b87dd5",
   "metadata": {},
   "outputs": [],
   "source": []
  },
  {
   "cell_type": "code",
   "execution_count": null,
   "id": "41540860",
   "metadata": {},
   "outputs": [],
   "source": []
  }
 ],
 "metadata": {
  "kernelspec": {
   "display_name": "Python 3 (ipykernel)",
   "language": "python",
   "name": "python3"
  },
  "language_info": {
   "codemirror_mode": {
    "name": "ipython",
    "version": 3
   },
   "file_extension": ".py",
   "mimetype": "text/x-python",
   "name": "python",
   "nbconvert_exporter": "python",
   "pygments_lexer": "ipython3",
   "version": "3.11.5"
  }
 },
 "nbformat": 4,
 "nbformat_minor": 5
}
